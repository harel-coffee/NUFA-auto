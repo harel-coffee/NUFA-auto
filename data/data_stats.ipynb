{
 "cells": [
  {
   "cell_type": "code",
   "execution_count": 1,
   "metadata": {
    "collapsed": true
   },
   "outputs": [],
   "source": [
    "import pandas as pd\n",
    "from collections import Counter\n",
    "\n",
    "user_list = [\n",
    "    # twitter\n",
    "    './twitter/user_table.tsv',\n",
    "    # amazon\n",
    "    './amazon/user_table.tsv',\n",
    "    # yelp hotel\n",
    "    './yelp_hotel/user_table.tsv',\n",
    "    # yelp restaurant\n",
    "    './yelp_rest/user_table.tsv',\n",
    "]\n",
    "\n",
    "data_list = [\n",
    "    # twitter\n",
    "    './twitter/twitter.tsv',\n",
    "    # amazon\n",
    "    './amazon/amazon.tsv',\n",
    "    # yelp hotel\n",
    "    './yelp_hotel/yelp_hotel.tsv',\n",
    "    # yelp restaurant\n",
    "    './yelp_rest/yelp_rest.tsv',\n",
    "]\n",
    "\n",
    "\n",
    "\"\"\"\n",
    "    Label distribution\n",
    "\"\"\"\n",
    "def label_dist(datap):\n",
    "    print('Working on: ' + datap)\n",
    "    labels = []\n",
    "    with open(datap) as dfile:\n",
    "        dfile.readline()\n",
    "        for line in dfile:\n",
    "            line = line.strip().split('\\t')\n",
    "            labels.append(float(line[-1]))\n",
    "    count = Counter(labels)\n",
    "    for key in sorted(count):\n",
    "        print(key, round(count[key]/len(labels), 3))    \n",
    "\n",
    "\n",
    "\"\"\"\n",
    "    Gender and age distribution\n",
    "\"\"\"\n",
    "def cal_dist(datap):\n",
    "    print('Working on: ' + datap)\n",
    "    # load the data\n",
    "    df = pd.read_csv(datap, sep='\\t')\n",
    "\n",
    "    # gender distribution\n",
    "    tmp_df = df[df.gender.apply(lambda x: x != 'x')]\n",
    "\n",
    "    print('Gender Distribution:')\n",
    "    print(tmp_df.gender.value_counts(normalize=True, sort=False, ascending=True))\n",
    "    print()\n",
    "\n",
    "    # age distribution\n",
    "    print('Age Distribution:')\n",
    "    tmp_df = tmp_df[tmp_df.age != 'x']\n",
    "    tmp_df.age = tmp_df.age.apply(lambda x: float(x))\n",
    "    ranges = [0, 30, 50, 100]\n",
    "    print(tmp_df.groupby(pd.cut(tmp_df.age, ranges)).age.count()/len(tmp_df))\n",
    "    print()\n",
    "\n",
    "    print('Age Distribution by gender:')\n",
    "    tmp_df_g = tmp_df[tmp_df.gender == '0']\n",
    "    print('\\tMale')\n",
    "    print(tmp_df_g.groupby(pd.cut(tmp_df_g.age, ranges)).age.count()/len(tmp_df_g))\n",
    "    tmp_df_g = tmp_df[tmp_df.gender == '1']\n",
    "    print('\\tFemale')\n",
    "    print(tmp_df_g.groupby(pd.cut(tmp_df_g.age, ranges)).age.count()/len(tmp_df_g))"
   ]
  },
  {
   "cell_type": "code",
   "execution_count": 18,
   "metadata": {
    "collapsed": true
   },
   "outputs": [],
   "source": [
    "def cal_dist_loc(datap):\n",
    "    print('Working on: ' + datap)\n",
    "    # load the data\n",
    "    df = pd.read_csv(datap, sep='\\t')\n",
    "\n",
    "    print('Country Distribution:')\n",
    "    tmp_df = df[df.country.apply(lambda x: x != 'x')]\n",
    "    tmp_df.country = tmp_df.country.apply(lambda x: int(x))\n",
    "    print(tmp_df.country.value_counts(normalize=True, sort=False, ascending=True))\n",
    "    \n",
    "    print('Region Distribution:')\n",
    "    tmp_df = df[df.region.apply(lambda x: x != 'x')]\n",
    "    print(tmp_df.region.value_counts(normalize=True, sort=False, ascending=True))"
   ]
  },
  {
   "cell_type": "markdown",
   "metadata": {},
   "source": [
    "## Notations:\n",
    "1. For gender, **1** means female and **0** means male"
   ]
  },
  {
   "cell_type": "markdown",
   "metadata": {},
   "source": [
    "# Twitter Stats"
   ]
  },
  {
   "cell_type": "code",
   "execution_count": 19,
   "metadata": {},
   "outputs": [
    {
     "name": "stdout",
     "output_type": "stream",
     "text": [
      "Working on: ./twitter/user_table.tsv\n",
      "Gender Distribution:\n",
      "0    0.425056\n",
      "1    0.574944\n",
      "Name: gender, dtype: float64\n",
      "\n",
      "Age Distribution:\n",
      "age\n",
      "(0, 30]      0.571589\n",
      "(30, 50]     0.342504\n",
      "(50, 100]    0.085907\n",
      "Name: age, dtype: float64\n",
      "\n",
      "Age Distribution by gender:\n",
      "\tMale\n",
      "age\n",
      "(0, 30]      0.363770\n",
      "(30, 50]     0.462445\n",
      "(50, 100]    0.173785\n",
      "Name: age, dtype: float64\n",
      "\tFemale\n",
      "age\n",
      "(0, 30]      0.699637\n",
      "(30, 50]     0.268603\n",
      "(50, 100]    0.031760\n",
      "Name: age, dtype: float64\n"
     ]
    }
   ],
   "source": [
    "cal_dist(user_list[0])"
   ]
  },
  {
   "cell_type": "code",
   "execution_count": 10,
   "metadata": {},
   "outputs": [
    {
     "name": "stdout",
     "output_type": "stream",
     "text": [
      "Working on: ./twitter/user_table.tsv\n",
      "Country Distribution:\n",
      "0    0.228029\n",
      "1    0.771971\n",
      "Name: country, dtype: float64\n",
      "Region Distribution:\n",
      "2    0.180616\n",
      "0    0.301600\n",
      "1    0.212085\n",
      "3    0.305699\n",
      "Name: region, dtype: float64\n"
     ]
    }
   ],
   "source": [
    "cal_dist_loc(user_list[0])"
   ]
  },
  {
   "cell_type": "markdown",
   "metadata": {},
   "source": [
    "# Amazon Stats"
   ]
  },
  {
   "cell_type": "code",
   "execution_count": 20,
   "metadata": {},
   "outputs": [
    {
     "name": "stdout",
     "output_type": "stream",
     "text": [
      "Working on: ./amazon/user_table.tsv\n",
      "Gender Distribution:\n",
      "1    0.333188\n",
      "0    0.666812\n",
      "Name: gender, dtype: float64\n",
      "\n",
      "Age Distribution:\n",
      "age\n",
      "(0, 30]      0.244503\n",
      "(30, 50]     0.523373\n",
      "(50, 100]    0.232125\n",
      "Name: age, dtype: float64\n",
      "\n",
      "Age Distribution by gender:\n",
      "\tMale\n",
      "age\n",
      "(0, 30]      0.154837\n",
      "(30, 50]     0.556890\n",
      "(50, 100]    0.288273\n",
      "Name: age, dtype: float64\n",
      "\tFemale\n",
      "age\n",
      "(0, 30]      0.423951\n",
      "(30, 50]     0.456294\n",
      "(50, 100]    0.119755\n",
      "Name: age, dtype: float64\n"
     ]
    }
   ],
   "source": [
    "cal_dist(user_list[1])"
   ]
  },
  {
   "cell_type": "code",
   "execution_count": 14,
   "metadata": {},
   "outputs": [
    {
     "name": "stdout",
     "output_type": "stream",
     "text": [
      "Working on: ./amazon/user_table.tsv\n",
      "Country Distribution:\n",
      "0    0.099593\n",
      "1    0.900407\n",
      "Name: country, dtype: float64\n",
      "Region Distribution:\n",
      "3    0.297019\n",
      "2    0.166321\n",
      "0    0.270845\n",
      "1    0.265815\n",
      "Name: region, dtype: float64\n"
     ]
    }
   ],
   "source": [
    "cal_dist_loc(user_list[1])"
   ]
  },
  {
   "cell_type": "markdown",
   "metadata": {},
   "source": [
    "# Yelp Hotel"
   ]
  },
  {
   "cell_type": "code",
   "execution_count": 21,
   "metadata": {},
   "outputs": [
    {
     "name": "stdout",
     "output_type": "stream",
     "text": [
      "Working on: ./yelp_hotel/user_table.tsv\n",
      "Gender Distribution:\n",
      "1    0.576059\n",
      "0    0.423941\n",
      "Name: gender, dtype: float64\n",
      "\n",
      "Age Distribution:\n",
      "age\n",
      "(0, 30]      0.450000\n",
      "(30, 50]     0.496765\n",
      "(50, 100]    0.053235\n",
      "Name: age, dtype: float64\n",
      "\n",
      "Age Distribution by gender:\n",
      "\tMale\n",
      "age\n",
      "(0, 30]      0.225336\n",
      "(30, 50]     0.671292\n",
      "(50, 100]    0.103372\n",
      "Name: age, dtype: float64\n",
      "\tFemale\n",
      "age\n",
      "(0, 30]      0.615337\n",
      "(30, 50]     0.368324\n",
      "(50, 100]    0.016338\n",
      "Name: age, dtype: float64\n"
     ]
    }
   ],
   "source": [
    "cal_dist(user_list[2])"
   ]
  },
  {
   "cell_type": "code",
   "execution_count": 12,
   "metadata": {},
   "outputs": [
    {
     "name": "stdout",
     "output_type": "stream",
     "text": [
      "Working on: ./yelp_hotel/user_table.tsv\n",
      "Country Distribution:\n",
      "0    0.043936\n",
      "1    0.956064\n",
      "Name: country, dtype: float64\n",
      "Region Distribution:\n",
      "0    0.131872\n",
      "2    0.096410\n",
      "3    0.096647\n",
      "1    0.675071\n",
      "Name: region, dtype: float64\n"
     ]
    }
   ],
   "source": [
    "cal_dist_loc(user_list[2])"
   ]
  },
  {
   "cell_type": "markdown",
   "metadata": {},
   "source": [
    "# Yelp Restaurant"
   ]
  },
  {
   "cell_type": "code",
   "execution_count": 22,
   "metadata": {
    "scrolled": false
   },
   "outputs": [
    {
     "name": "stdout",
     "output_type": "stream",
     "text": [
      "Working on: ./yelp_rest/user_table.tsv\n",
      "Gender Distribution:\n",
      "1    0.54681\n",
      "0    0.45319\n",
      "Name: gender, dtype: float64\n",
      "\n",
      "Age Distribution:\n",
      "age\n",
      "(0, 30]      0.450527\n",
      "(30, 50]     0.490762\n",
      "(50, 100]    0.058712\n",
      "Name: age, dtype: float64\n",
      "\n",
      "Age Distribution by gender:\n",
      "\tMale\n",
      "age\n",
      "(0, 30]      0.249624\n",
      "(30, 50]     0.647070\n",
      "(50, 100]    0.103306\n",
      "Name: age, dtype: float64\n",
      "\tFemale\n",
      "age\n",
      "(0, 30]      0.617033\n",
      "(30, 50]     0.361215\n",
      "(50, 100]    0.021752\n",
      "Name: age, dtype: float64\n"
     ]
    }
   ],
   "source": [
    "cal_dist(user_list[3])"
   ]
  },
  {
   "cell_type": "code",
   "execution_count": 19,
   "metadata": {},
   "outputs": [
    {
     "name": "stdout",
     "output_type": "stream",
     "text": [
      "Working on: ./yelp_rest/user_table.tsv\n"
     ]
    },
    {
     "name": "stderr",
     "output_type": "stream",
     "text": [
      "/home/xiaolei/anaconda3/lib/python3.6/site-packages/IPython/core/interactiveshell.py:2808: DtypeWarning: Columns (1) have mixed types. Specify dtype option on import or set low_memory=False.\n",
      "  if self.run_code(code, result):\n"
     ]
    },
    {
     "name": "stdout",
     "output_type": "stream",
     "text": [
      "Country Distribution:\n"
     ]
    },
    {
     "name": "stderr",
     "output_type": "stream",
     "text": [
      "/home/xiaolei/anaconda3/lib/python3.6/site-packages/pandas/core/generic.py:3643: SettingWithCopyWarning: \n",
      "A value is trying to be set on a copy of a slice from a DataFrame.\n",
      "Try using .loc[row_indexer,col_indexer] = value instead\n",
      "\n",
      "See the caveats in the documentation: http://pandas.pydata.org/pandas-docs/stable/indexing.html#indexing-view-versus-copy\n",
      "  self[name] = value\n"
     ]
    },
    {
     "name": "stdout",
     "output_type": "stream",
     "text": [
      "0    0.108046\n",
      "1    0.891954\n",
      "Name: country, dtype: float64\n",
      "Region Distribution:\n",
      "0    0.144614\n",
      "1    0.630951\n",
      "2    0.120391\n",
      "3    0.104045\n",
      "Name: region, dtype: float64\n"
     ]
    }
   ],
   "source": [
    "cal_dist_loc(user_list[3])"
   ]
  },
  {
   "cell_type": "markdown",
   "metadata": {},
   "source": [
    "# Summary\n",
    "1. The Twitter and Yelp data show female has a higher proportion to display their self profile images than male's (about 10%). However, the Amazon data shows male percentage is twice than the female (66% vs 33%).\n",
    "2. Interestingly, Yelp and Twitter data has a higher percentage young people than elder people (> 30). However, the Amazon data shows the other direction: elder people has a much higher percentage.\n",
    "3. Another interesting finding is: among the people who show their profile images online, in Yelp and Twitter data, young females exceeds elder females, in contrast, elder male exceeds young males. This makes sense because young females might be more active to show their lovely faces... This also happends in the Amazon, even we have more male percentage.\n",
    "4. Because Yelp and Twitter provide more social networking functions (such as making friends) than the Amazon, there are more young users in the Yelp and Twitter who like to share their profile image. \n",
    "5. The picture quality in Yelp and Twitter is much better than the profile image in Amazon data."
   ]
  },
  {
   "cell_type": "markdown",
   "metadata": {},
   "source": [
    "# Visualization"
   ]
  },
  {
   "cell_type": "code",
   "execution_count": 8,
   "metadata": {},
   "outputs": [
    {
     "data": {
      "image/png": "[encoded data removed]",
      "text/plain": [
       "<matplotlib.figure.Figure at 0x7f62aa4d7400>"
      ]
     },
     "metadata": {},
     "output_type": "display_data"
    }
   ],
   "source": [
    "import matplotlib.pyplot as plt\n",
    "import numpy as np\n",
    "\n",
    "# gender stacked bar chart\n",
    "male = [0.425056, 0.666812, 0.423941, 0.45319]\n",
    "female = [0.574944, 0.333188, 0.576059, 0.54681]\n",
    "ind = np.arange(4)\n",
    "width = 0.45\n",
    "\n",
    "p1 = plt.bar(ind, male, width)\n",
    "p2 = plt.bar(ind, female, width, bottom=male)\n",
    "\n",
    "plt.ylabel('Gender Distribution')\n",
    "plt.xticks(ind, ('Twitter', 'Amazon', 'Hotel', 'Restaurant'))\n",
    "plt.legend((p1[0], p2[0]), ('Male', 'Female'), loc='center')\n",
    "\n",
    "plt.show()"
   ]
  },
  {
   "cell_type": "code",
   "execution_count": 7,
   "metadata": {},
   "outputs": [
    {
     "data": {
      "image/png": "[encoded data removed]",
      "text/plain": [
       "<matplotlib.figure.Figure at 0x7f62aa5882e8>"
      ]
     },
     "metadata": {},
     "output_type": "display_data"
    }
   ],
   "source": [
    "# age stacked bar chart\n",
    "young = [0.571589, 0.244503, 0.450000, 0.450527]\n",
    "old = [0.428411, 0.755497, 0.55, 0.549473]\n",
    "ind = np.arange(4)\n",
    "width = 0.45\n",
    "\n",
    "p1 = plt.bar(ind, young, width)\n",
    "p2 = plt.bar(ind, old, width, bottom=young)\n",
    "\n",
    "plt.ylabel('Age Distribution')\n",
    "plt.xticks(ind, ('Twitter', 'Amazon', 'Hotel', 'Restaurant'))\n",
    "plt.legend((p1[0], p2[0]), ('<=30', '>30'), loc='center')\n",
    "\n",
    "plt.show()"
   ]
  },
  {
   "cell_type": "markdown",
   "metadata": {},
   "source": [
    "# Label Distribution"
   ]
  },
  {
   "cell_type": "code",
   "execution_count": 12,
   "metadata": {},
   "outputs": [
    {
     "name": "stdout",
     "output_type": "stream",
     "text": [
      "Working on: ./twitter/twitter.tsv\n",
      "0.0 0.692\n",
      "1.0 0.308\n",
      "Working on: ./amazon/amazon.tsv\n",
      "1.0 0.029\n",
      "2.0 0.041\n",
      "3.0 0.087\n",
      "4.0 0.234\n",
      "5.0 0.609\n",
      "Working on: ./yelp_hotel/yelp_hotel.tsv\n",
      "1.0 0.196\n",
      "2.0 0.124\n",
      "3.0 0.164\n",
      "4.0 0.273\n",
      "5.0 0.243\n",
      "Working on: ./yelp_rest/yelp_rest.tsv\n",
      "1.0 0.11\n",
      "2.0 0.098\n",
      "3.0 0.142\n",
      "4.0 0.279\n",
      "5.0 0.37\n"
     ]
    }
   ],
   "source": [
    "for datap in data_list:\n",
    "    label_dist(datap)"
   ]
  },
  {
   "cell_type": "markdown",
   "metadata": {},
   "source": [
    "# Summary\n",
    "1. If we encode the data labels into positive (4,5) and negative (1,2,3). The Amazon data is very skewed distributed that the positive labels are much more than the negative labels (84.1% vs 15.9%). The skewed distribution problem also happens to the Yelp restaurant data (64.9% vs 35.1%) and the Twitter data (30.8% vs 69.2%). The only almost balanced data is the Yelp hotel data (51.6% vs 48.4%)"
   ]
  },
  {
   "cell_type": "code",
   "execution_count": null,
   "metadata": {
    "collapsed": true
   },
   "outputs": [],
   "source": [
    "# location distribution, visualize into maps\n",
    "def loc_dist():\n",
    "    pass"
   ]
  }
 ],
 "metadata": {
  "kernelspec": {
   "display_name": "Python 3",
   "language": "python",
   "name": "python3"
  },
  "language_info": {
   "codemirror_mode": {
    "name": "ipython",
    "version": 3
   },
   "file_extension": ".py",
   "mimetype": "text/x-python",
   "name": "python",
   "nbconvert_exporter": "python",
   "pygments_lexer": "ipython3",
   "version": "3.6.3"
  }
 },
 "nbformat": 4,
 "nbformat_minor": 2
}
